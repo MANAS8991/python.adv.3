{
 "cells": [
  {
   "cell_type": "markdown",
   "id": "7ff957a0",
   "metadata": {},
   "source": [
    "# 1. What is the concept of an abstract superclass?"
   ]
  },
  {
   "cell_type": "raw",
   "id": "637677c2",
   "metadata": {},
   "source": [
    "The concept of an abstract superclass, also known as an abstract base class (ABC), is a feature in object-oriented programming that allows the creation of classes that cannot be instantiated directly but serve as a blueprint for other classes. An abstract superclass defines a common interface and a set of methods that its subclasses must implement.\n",
    "\n",
    "In Python, the abc module provides the infrastructure for defining abstract base classes. To create an abstract superclass, you need to subclass the ABC class from the abc module and use the @abstractmethod decorator to mark one or more methods as abstract. An abstract method is a method declaration without an implementation in the abstract superclass. Subclasses of the abstract superclass are then required to provide an implementation for the abstract methods.\n",
    "\n",
    "The purpose of an abstract superclass is to define a common interface and establish a contract that its subclasses must adhere to. It allows you to enforce certain behaviors and ensure that specific methods are implemented by the subclasses. Abstract superclasses are useful for creating generic functionality that can be extended and customized by different subclasses while maintaining a consistent interface."
   ]
  },
  {
   "cell_type": "markdown",
   "id": "bf894f9e",
   "metadata": {},
   "source": [
    "# 2. What happens when a class statement&#39;s top level contains a basic assignment statement?"
   ]
  },
  {
   "cell_type": "code",
   "execution_count": null,
   "id": "b11eb816",
   "metadata": {},
   "outputs": [],
   "source": [
    "When a class statement's top level contains a basic assignment statement, it defines a class variable. Class variables are variables that are shared among all instances of a class. They are defined at the class level, outside of any method or constructor.\n",
    "\n",
    "Here's an example to illustrate the concept:\n",
    "class MyClass:\n",
    "    class_variable = 10  # Class variable defined in the class statement\n",
    "    \n",
    "    def __init__(self):\n",
    "        self.instance_variable = 20  # Instance variable defined in the constructor\n",
    "\n",
    "        In the above example, class_variable is a class variable, and instance_variable is an instance variable. The class_variable is defined at the top level of the class statement, and it is accessible to all instances of the class. Each instance of the class will have its own copy of the instance_variable.\n",
    "\n",
    "When accessing a class variable, it can be accessed using either the class name or an instance of the class. However, modifying the class variable through an instance will create a new instance variable that shadows the class variable. To modify the class variable itself, it should be accessed and modified using the class name.\n",
    "\n"
   ]
  },
  {
   "cell_type": "markdown",
   "id": "8e2bd38c",
   "metadata": {},
   "source": [
    "# 3. Why does a class need to manually call a superclass&#39;s __init__ method?"
   ]
  },
  {
   "cell_type": "markdown",
   "id": "92341301",
   "metadata": {},
   "source": [
    "In Python, a class needs to manually call a superclass's __init__ method when it wants to initialize the superclass's attributes or perform any other initialization steps defined in the superclass's __init__ method.\n",
    "\n",
    "When a class inherits from a superclass (parent class), it can override the superclass's methods or define its own methods. However, if the subclass wants to inherit and utilize the initialization logic defined in the superclass's __init__ method, it needs to explicitly call the superclass's __init__ method using the super() function.\n",
    "\n",
    "The super() function allows the subclass to access the superclass and its methods. By calling super().__init__(), the subclass can invoke the superclass's __init__ method and initialize any attributes or perform any necessary setup defined in the superclass."
   ]
  },
  {
   "cell_type": "markdown",
   "id": "437389d5",
   "metadata": {},
   "source": [
    "# 4. How can you augment, instead of completely replacing, an inherited method?"
   ]
  },
  {
   "cell_type": "code",
   "execution_count": null,
   "id": "4aaa8a6e",
   "metadata": {},
   "outputs": [],
   "source": [
    "To augment, or modify, an inherited method without completely replacing it in Python, you can follow these steps:\n",
    "\n",
    "Define a subclass that inherits from the superclass.\n",
    "Define a method in the subclass with the same name as the method you want to augment in the superclass.\n",
    "Within the subclass method, use the super() function to call the superclass's method.\n",
    "Perform any additional operations or modifications specific to the subclass.\n",
    "By calling super().method_name(), you can invoke the superclass's method and obtain its return value or perform any necessary operations defined in the superclass. After calling the superclass's method, you can add your own code to modify or extend its behavior.\n",
    "\n",
    "Here's an example to illustrate the augmentation of an inherited method:\n",
    "class Superclass:\n",
    "    def method(self):\n",
    "        print(\"Superclass method\")\n",
    "\n",
    "class Subclass(Superclass):\n",
    "    def method(self):\n",
    "        super().method()  # Call superclass's method\n",
    "        print(\"Subclass method\")\n",
    "\n",
    "obj = Subclass()\n",
    "obj.method()\n",
    "In the above example, the Superclass defines a method called method(). The Subclass inherits from the Superclass and augments the method() by adding its own behavior. By calling super().method() in the Subclass's method(), the superclass's method is invoked and its output (\"Superclass method\") is printed. After that, the subclass-specific code is executed, and \"Subclass method\" is printed\n",
    "Output:\n",
    "Superclass method\n",
    "Subclass method\n",
    "   "
   ]
  },
  {
   "cell_type": "markdown",
   "id": "7a60f98f",
   "metadata": {},
   "source": [
    "# 5. How is the local scope of a class different from that of a function?"
   ]
  },
  {
   "cell_type": "raw",
   "id": "925a4f6d",
   "metadata": {},
   "source": [
    "The local scope of a class and a function in Python have some key differences:\n",
    "\n",
    "Scope Location: The local scope of a class is defined within the class definition, while the local scope of a function is defined within the function's body.\n",
    "\n",
    "Accessible Variables: In the local scope of a class, you can access and modify the class attributes (variables defined within the class) using the self keyword. These class attributes are accessible to all methods within the class. In the local scope of a function, you can only access and modify the variables defined within the function itself.\n",
    "\n",
    "Instance-specific Variables: In the local scope of a class, you can define instance variables using the self keyword, which are unique to each instance of the class. These instance variables store data specific to each object created from the class. In the local scope of a function, you don't have the concept of instance variables unless you pass them as arguments to the function.\n",
    "\n",
    "Lifetime: The local scope of a class exists as long as the class object exists. It persists throughout the lifespan of the object. The local scope of a function is temporary and is created and destroyed each time the function is called and executed.\n",
    "\n",
    "Access from Methods: In the local scope of a class, you can access other methods and attributes within the class using the self keyword. This allows for intercommunication between different methods of the class. In the local scope of a function, you can access variables defined within the function and parameters passed to it, but not the variables or parameters of other functions."
   ]
  }
 ],
 "metadata": {
  "kernelspec": {
   "display_name": "Python 3 (ipykernel)",
   "language": "python",
   "name": "python3"
  },
  "language_info": {
   "codemirror_mode": {
    "name": "ipython",
    "version": 3
   },
   "file_extension": ".py",
   "mimetype": "text/x-python",
   "name": "python",
   "nbconvert_exporter": "python",
   "pygments_lexer": "ipython3",
   "version": "3.9.12"
  }
 },
 "nbformat": 4,
 "nbformat_minor": 5
}
